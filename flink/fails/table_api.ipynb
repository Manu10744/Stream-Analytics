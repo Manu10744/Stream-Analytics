{
 "cells": [
  {
   "cell_type": "markdown",
   "id": "595700ec",
   "metadata": {},
   "source": [
    "## Failed attempt at loading the data into a dynamic table using Flink's Table API"
   ]
  },
  {
   "cell_type": "code",
   "execution_count": null,
   "id": "f8eb35fb",
   "metadata": {},
   "outputs": [],
   "source": [
    "from pyflink.dataset import ExecutionEnvironment\n",
    "from pyflink.table import TableConfig, StreamTableEnvironment\n",
    "\n",
    "exec_env = ExecutionEnvironment.get_execution_environment()\n",
    "exec_env.set_parallelism(1)\n",
    "t_config = TableConfig()\n",
    "t_env = StreamTableEnvironment.create(exec_env, t_config)\n",
    "\n",
    "# specify input format as table rows\n",
    "twitter_table = \"\"\"\n",
    "    CREATE TABLE tweets (\n",
    "        data ROW<text STRING, public_metrics ROW<retweet_count INT, reply_count INT, like_count INT, quote_count INT>, \n",
    "                 author_id STRING, id STRING, created_at STRING, source STRING, lang STRING>,\n",
    "        includes ROW<users ARRAY<ROW<protected BOOLEAN, id STRING, name STRING, created_at STRING, \n",
    "                     public_metrics ROW<followers_count INT, following_count INT, tweet_count INT, listed_count INT>, \n",
    "                                        username STRING>>>,\n",
    "        matching_rules ARRAY<ROW<id INT, tag STRING>>,\n",
    "        kafka_ts TIMESTAMP(3) METADATA FROM 'timestamp'        \n",
    "    ) WITH (\n",
    "        'connector' = 'kafka',\n",
    "        'topic' = 'twitter-stream',\n",
    "        'properties.bootstrap.servers' = 'localhost:9092',\n",
    "        'properties.group.id' = 'twitter_consumer'\n",
    "        'format' = 'json'   \n",
    "        'json.fail-on-missing-field' = 'false',\n",
    "        'json.ignore-parse-errors' = 'true'     \n",
    "    )\n",
    "\"\"\"\n",
    "\n",
    "t_env.execute_sql(twitter_table)\n",
    "\n",
    "\n",
    "'''\n",
    "Exemplary Tweet Format: \n",
    "{\"data\": {\"text\": \"Polsek Kakas Cegah Covid-19 https://t.co/ADjEgpt7bC\",\n",
    "          \"public_metrics\": {\"retweet_count\": 0, \"reply_count\": 0, \"like_count\": 0, \"quote_count\": 0},\n",
    "          \"author_id\": \"1367839185764151302\", \"id\": \"1378275866279469059\", \"created_at\": \"2021-04-03T09:19:08.000Z\",\n",
    "          \"source\": \"Twitter for Android\", \"lang\": \"in\"},\n",
    " \"includes\": {\"users\": [{\"protected\": false, \"id\": \"1367839185764151302\", \"name\": \"Nathan Pareda\",\n",
    "                         \"created_at\": \"2021-03-05T14:07:56.000Z\",\n",
    "                         \"public_metrics\": {\"followers_count\": 0, \"following_count\": 0, \"tweet_count\": 557,\n",
    "                                            \"listed_count\": 0}, \"username\": \"NathanPareda\"}]},\n",
    " \"matching_rules\": [{\"id\": 1378112825051246596, \"tag\": \"coronavirus\"}]}\n",
    "'''"
   ]
  }
 ],
 "metadata": {
  "kernelspec": {
   "display_name": "Python 3",
   "language": "python",
   "name": "python3"
  },
  "language_info": {
   "codemirror_mode": {
    "name": "ipython",
    "version": 3
   },
   "file_extension": ".py",
   "mimetype": "text/x-python",
   "name": "python",
   "nbconvert_exporter": "python",
   "pygments_lexer": "ipython3",
   "version": "3.8.5"
  }
 },
 "nbformat": 4,
 "nbformat_minor": 5
}
