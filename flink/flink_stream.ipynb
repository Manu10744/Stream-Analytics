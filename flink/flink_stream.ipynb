{
 "cells": [
  {
   "cell_type": "code",
   "execution_count": 15,
   "metadata": {},
   "outputs": [],
   "source": [
    "# Load dependencies and set constants\n",
    "from pyflink.datastream.functions import ProcessFunction\n",
    "from pyflink.common.serialization import SimpleStringSchema\n",
    "from pyflink.common.typeinfo import Types\n",
    "from pyflink.datastream import StreamExecutionEnvironment, TimeCharacteristic\n",
    "from pyflink.datastream.connectors import FlinkKafkaConsumer\n",
    "from matplotlib import pyplot as plt\n",
    "import time\n",
    "import sys\n",
    "\n",
    "\n",
    "kafka_props = {\n",
    "    'bootstrap.servers': 'localhost:9092',\n",
    "    'group.id': 'twitter-consumers'\n",
    "}\n",
    "\n",
    "KAFKA_TOPIC = \"twitter-stream\"\n",
    "KAFKA_CONNECTOR_JAR = \"file:///home/ubuntu/flink-sql-connector-kafka_2.11-1.12.2.jar\"\n",
    "# Number of tweets in the dataset (10 MB)\n",
    "NUMBER_OF_TWEETS = 14484\n",
    "# Number of times the dataset is produced by Kafka\n",
    "NUMBER_OF_PRODUCTIONS = 10"
   ]
  },
  {
   "cell_type": "code",
   "execution_count": null,
   "metadata": {},
   "outputs": [],
   "source": [
    "latencies = []\n",
    "records_received = 0\n",
    "\n",
    "def collect_stats():\n",
    "    plt.plot(latencies)\n",
    "    plt.show()\n",
    "\n",
    "\n",
    "class MyProcessFunction(ProcessFunction):\n",
    "\n",
    "    def process_element(self, value, ctx: 'ProcessFunction.Context'):\n",
    "        latency = (time.time() * 1000) - ctx.timestamp()\n",
    "        result = \"Latency: {}\".format(str(latency))\n",
    "        yield result\n",
    "        latencies.append(latency)\n",
    "        # global might not be ideal here (parallelism possible?) but currently nothing else comes to mind\n",
    "        global records_received\n",
    "        records_received += 1\n",
    "        if records_received >= NUMBER_OF_TWEETS * NUMBER_OF_PRODUCTIONS:\n",
    "            collect_stats()\n",
    "\n",
    "\n",
    "env = StreamExecutionEnvironment.get_execution_environment()\n",
    "env.set_stream_time_characteristic(TimeCharacteristic.EventTime)\n",
    "# Add the Kafka Connector Dependency\n",
    "env.add_jars(KAFKA_CONNECTOR_JAR)\n",
    "env.add_classpaths(KAFKA_CONNECTOR_JAR)\n",
    "\n",
    "kafka_consumer = FlinkKafkaConsumer(\"twitter-stream\", SimpleStringSchema(), kafka_props)\n",
    "\n",
    "stream = env.add_source(kafka_consumer)\n",
    "stream_latency = stream.process(MyProcessFunction(), output_type=Types.STRING()).print()\n",
    "\n",
    "env.execute()\n",
    "\n",
    "\n",
    "# TODO: Write function for plotting and call it from process-function\n",
    "\n",
    "\n"
   ]
  }
 ],
 "metadata": {
  "kernelspec": {
   "display_name": "Python 3",
   "language": "python",
   "name": "python3"
  },
  "language_info": {
   "codemirror_mode": {
    "name": "ipython",
    "version": 3
   },
   "file_extension": ".py",
   "mimetype": "text/x-python",
   "name": "python",
   "nbconvert_exporter": "python",
   "pygments_lexer": "ipython3",
   "version": "3.8.5"
  }
 },
 "nbformat": 4,
 "nbformat_minor": 4
}
