{
 "cells": [
  {
   "cell_type": "code",
   "execution_count": null,
   "metadata": {},
   "outputs": [],
   "source": [
    "# Install PyFlink\n",
    "!pip install apache-flink"
   ]
  },
  {
   "cell_type": "code",
   "execution_count": 30,
   "metadata": {},
   "outputs": [],
   "source": [
    "# Load dependencies and set constants\n",
    "from pyflink.common.serialization import JsonRowDeserializationSchema\n",
    "from pyflink.common.serialization import SimpleStringSchema, SimpleStringEncoder\n",
    "from pyflink.common.typeinfo import Types\n",
    "from pyflink.datastream import StreamExecutionEnvironment\n",
    "from pyflink.datastream.connectors import FlinkKafkaConsumer, StreamingFileSink\n",
    "\n",
    "kafka_props = {\n",
    "    'bootstrap.servers': 'localhost:9092',\n",
    "    'group.id': 'twitter-consumers'\n",
    "}\n",
    "\n",
    "KAFKA_TOPIC = \"twitter-stream\"\n",
    "KAFKA_CONNECTOR_JAR = \"file:///home/ubuntu/Stream-Analytics/flink/flink-sql-connector-kafka_2.11-1.12.2.jar\"\n",
    "\n",
    "def just_print(msg):\n",
    "    return \"Message: {}\".format(msg)"
   ]
  },
  {
   "cell_type": "code",
   "execution_count": null,
   "metadata": {},
   "outputs": [],
   "source": [
    "env = StreamExecutionEnvironment.get_execution_environment()\n",
    "env.set_parallelism(1)\n",
    "\n",
    "# Add the Kafka Connector Dependency\n",
    "env.add_jars(KAFKA_CONNECTOR_JAR)\n",
    "env.add_classpaths(KAFKA_CONNECTOR_JAR)\n",
    "\n",
    "# Setup the Kafka Consumer and set it as source\n",
    "kafka_consumer = FlinkKafkaConsumer(KAFKA_TOPIC, SimpleStringSchema(), kafka_props)\n",
    "stream = env.add_source(kafka_consumer)\n",
    "\n",
    "# Perform Map, Filter etc. on incoming messages from kafka\n",
    "stream.map(just_print).print()\n",
    "\n",
    "# Submit the job to the JobManager\n",
    "env.execute()"
   ]
  }
 ],
 "metadata": {
  "kernelspec": {
   "display_name": "Python 3",
   "language": "python",
   "name": "python3"
  },
  "language_info": {
   "codemirror_mode": {
    "name": "ipython",
    "version": 3
   },
   "file_extension": ".py",
   "mimetype": "text/x-python",
   "name": "python",
   "nbconvert_exporter": "python",
   "pygments_lexer": "ipython3",
   "version": "3.7.6"
  }
 },
 "nbformat": 4,
 "nbformat_minor": 4
}
