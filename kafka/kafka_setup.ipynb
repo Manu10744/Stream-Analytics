{
 "cells": [
  {
   "cell_type": "markdown",
   "metadata": {},
   "source": [
    "# Installation of Apache Kafka\n",
    "Following cell will install Apache Kafka.\n",
    "\n",
    "Apache Kafka requires a Java Version >= 8 to be installed."
   ]
  },
  {
   "cell_type": "code",
   "execution_count": 2,
   "metadata": {},
   "outputs": [
    {
     "name": "stdout",
     "output_type": "stream",
     "text": [
      "--2021-04-11 16:47:40--  https://apache.mirror.digionline.de/kafka/2.7.0/kafka_2.13-2.7.0.tgz\n",
      "Resolving apache.mirror.digionline.de (apache.mirror.digionline.de)... 62.96.182.142\n",
      "Connecting to apache.mirror.digionline.de (apache.mirror.digionline.de)|62.96.182.142|:443... connected.\n",
      "HTTP request sent, awaiting response... 200 OK\n",
      "Length: 68583422 (65M) [application/x-gzip]\n",
      "Saving to: ‘kafka_2.13-2.7.0.tgz’\n",
      "\n",
      "kafka_2.13-2.7.0.tg 100%[===================>]  65.41M  5.33MB/s    in 11s     \n",
      "\n",
      "2021-04-11 16:47:51 (5.80 MB/s) - ‘kafka_2.13-2.7.0.tgz’ saved [68583422/68583422]\n",
      "\n"
     ]
    }
   ],
   "source": [
    "!wget https://apache.mirror.digionline.de/kafka/2.7.0/kafka_2.13-2.7.0.tgz\n",
    "!tar -xzf kafka_2.13-2.7.0.tgz"
   ]
  },
  {
   "cell_type": "markdown",
   "metadata": {},
   "source": [
    "### After Installation: Starting Apache Kafka Environment\n",
    "To start the Apache Kafka Environment, we need to have at least two shell sessions active.\n",
    "\n",
    "<br>\n",
    "In Shell 1 we start the ZooKeeper Service that's still required by Kafka:\n",
    "\n",
    "```bash\n",
    "$ cd kafka_2.13-2.7.0\n",
    "$ bin/zookeeper-server-start.sh config/zookeeper.properties\n",
    "```\n",
    "\n",
    "<br>\n",
    "In Shell 2 we start the Apache Kafka Server:\n",
    "\n",
    "```bash\n",
    "$ bin/kafka-server-start.sh config/server.properties\n",
    "```\n",
    "\n",
    "<br>\n",
    "<hr>\n",
    "\n",
    "This will set up one **Kafka Broker** and we can now produce and consume data using a Kafka Cluster.\n",
    "\n",
    "To scale the cluster horizontally, we can simply start more **Brokers** on other machines using the same procedure."
   ]
  }
 ],
 "metadata": {
  "kernelspec": {
   "display_name": "Python 3",
   "language": "python",
   "name": "python3"
  },
  "language_info": {
   "codemirror_mode": {
    "name": "ipython",
    "version": 3
   },
   "file_extension": ".py",
   "mimetype": "text/x-python",
   "name": "python",
   "nbconvert_exporter": "python",
   "pygments_lexer": "ipython3",
   "version": "3.7.6"
  }
 },
 "nbformat": 4,
 "nbformat_minor": 2
}
